{
 "cells": [
  {
   "cell_type": "code",
   "execution_count": null,
   "id": "c0db29d7256a4434",
   "metadata": {},
   "outputs": [],
   "source": [
    "from clickhouse_driver import Client"
   ]
  },
  {
   "cell_type": "code",
   "execution_count": null,
   "id": "167f0194f7813ea6",
   "metadata": {},
   "outputs": [],
   "source": [
    "client = Client(\n",
    "    host='localhost',\n",
    "    port=9000,\n",
    "    database='fleet',\n",
    "    user='fleet',\n",
    "    password='fleet',\n",
    "    settings={'use_numpy': True},\n",
    ")"
   ]
  },
  {
   "cell_type": "code",
   "execution_count": null,
   "id": "6ce968ab613deda9",
   "metadata": {},
   "outputs": [],
   "source": [
    "time_position, longitude, latitude = client.execute(\n",
    "    'select time_position, longitude, latitude '\n",
    "    'from clean_states '\n",
    "    'order by time_position desc '\n",
    "    'limit 10_000_000',\n",
    "    columnar=True,\n",
    ")"
   ]
  },
  {
   "cell_type": "code",
   "execution_count": null,
   "id": "initial_id",
   "metadata": {
    "collapsed": true
   },
   "outputs": [],
   "source": [
    "import pandas as pd"
   ]
  },
  {
   "cell_type": "code",
   "execution_count": null,
   "id": "77019e57f601c4d0",
   "metadata": {},
   "outputs": [],
   "source": [
    "df = pd.DataFrame({'time_position': time_position, 'longitude': longitude, 'latitude': latitude})"
   ]
  },
  {
   "cell_type": "code",
   "execution_count": null,
   "id": "1348c0a6b43a3fb4",
   "metadata": {},
   "outputs": [],
   "source": [
    "df.head()"
   ]
  },
  {
   "cell_type": "code",
   "execution_count": null,
   "id": "c0569858",
   "metadata": {},
   "outputs": [],
   "source": [
    "import cartopy as cp"
   ]
  },
  {
   "cell_type": "code",
   "execution_count": null,
   "id": "d79185d0",
   "metadata": {},
   "outputs": [],
   "source": [
    "projection = cp.crs.Robinson()\n",
    "x_range = projection.x_limits\n",
    "y_range = projection.y_limits"
   ]
  },
  {
   "cell_type": "code",
   "execution_count": null,
   "id": "9aa4b3fb",
   "metadata": {},
   "outputs": [],
   "source": [
    "projected = projection.transform_points(cp.crs.Geodetic(), df['longitude'], df['latitude'])\n",
    "df['x'], df['y'] = projected.T[:2]\n",
    "df.head()"
   ]
  },
  {
   "cell_type": "code",
   "execution_count": null,
   "id": "82109bd1",
   "metadata": {},
   "outputs": [],
   "source": [
    "import datashader as ds\n",
    "import colorcet as cc"
   ]
  },
  {
   "cell_type": "code",
   "execution_count": null,
   "id": "2d62a6d2",
   "metadata": {},
   "outputs": [],
   "source": [
    "canvas = ds.Canvas(2048, 1024, x_range, y_range)\n",
    "agg = canvas.points(df, 'x', 'y')\n",
    "img = ds.tf.shade(agg, cmap=cc.fire)\n",
    "img = img.to_pil()"
   ]
  },
  {
   "cell_type": "code",
   "execution_count": null,
   "id": "72354413",
   "metadata": {},
   "outputs": [],
   "source": [
    "import matplotlib.pyplot as plt"
   ]
  },
  {
   "cell_type": "code",
   "execution_count": null,
   "id": "59bd9e86",
   "metadata": {},
   "outputs": [],
   "source": [
    "plt.style.use('dark_background')\n",
    "fig = plt.figure(figsize=(25, 25))\n",
    "ax = plt.axes(projection=projection)\n",
    "ax.coastlines(color='grey')\n",
    "ax.add_feature(cp.feature.LAND, facecolor='#202020')\n",
    "ax.add_feature(cp.feature.BORDERS, edgecolor='grey', linewidth=0.5)\n",
    "ax.imshow(img, extent=(x_range + y_range), transform=projection, zorder=2)\n",
    "plt.title('Traffic Density - Global', fontsize=20)\n",
    "plt.show()"
   ]
  },
  {
   "cell_type": "code",
   "execution_count": null,
   "id": "6ba83674",
   "metadata": {},
   "outputs": [],
   "source": [
    "def plot_region(projection, w, e, s, n, resx, resy, figw, figh, fontsize):\n",
    "    geodetic = cp.crs.Geodetic()\n",
    "    x1, y1 = projection.transform_point(w, s, geodetic)\n",
    "    x2, y2 = projection.transform_point(e, n, geodetic)\n",
    "    x_range = x1, x2\n",
    "    y_range = y1, y2\n",
    "\n",
    "    projected = projection.transform_points(cp.crs.Geodetic(), df['longitude'], df['latitude'])\n",
    "    df['x'], df['y'] = projected.T[:2]\n",
    "\n",
    "    canvas = ds.Canvas(resx, resy, x_range, y_range)\n",
    "    agg = canvas.points(df, 'x', 'y')\n",
    "    img = ds.tf.shade(agg, cmap=cc.fire)\n",
    "    img = img.to_pil()\n",
    "\n",
    "    plt.style.use('dark_background')\n",
    "    fig = plt.figure(figsize=(figw, figh))\n",
    "    ax = plt.axes(projection=projection)\n",
    "    ax.coastlines(color='grey')\n",
    "    ax.add_feature(cp.feature.LAND, facecolor='#202020')\n",
    "    ax.add_feature(cp.feature.BORDERS, edgecolor='grey', linewidth=0.5)\n",
    "    ax.imshow(img, extent=(x_range + y_range), transform=projection, zorder=2)\n",
    "    plt.title('Traffic Density', fontsize=fontsize)\n",
    "    plt.show()"
   ]
  },
  {
   "cell_type": "code",
   "execution_count": null,
   "id": "07c7a266",
   "metadata": {},
   "outputs": [],
   "source": [
    "plot_region(cp.crs.Mercator(), -18, 50, 28, 72, 1024, 512, 15, 15, 16)"
   ]
  },
  {
   "cell_type": "code",
   "execution_count": null,
   "id": "d913481b",
   "metadata": {},
   "outputs": [],
   "source": [
    "plot_region(cp.crs.Mercator(), -180, -50, 0, 75, 1024, 512, 15, 15, 16)"
   ]
  },
  {
   "cell_type": "code",
   "execution_count": null,
   "id": "cbb4e8f3",
   "metadata": {},
   "outputs": [],
   "source": [
    "plot_region(cp.crs.Mercator(), -130, -55, 15, 55, 1024, 512, 15, 15, 12)"
   ]
  }
 ],
 "metadata": {
  "kernelspec": {
   "display_name": "fleet",
   "language": "python",
   "name": "python3"
  },
  "language_info": {
   "codemirror_mode": {
    "name": "ipython",
    "version": 3
   },
   "file_extension": ".py",
   "mimetype": "text/x-python",
   "name": "python",
   "nbconvert_exporter": "python",
   "pygments_lexer": "ipython3",
   "version": "3.12.10"
  }
 },
 "nbformat": 4,
 "nbformat_minor": 5
}
