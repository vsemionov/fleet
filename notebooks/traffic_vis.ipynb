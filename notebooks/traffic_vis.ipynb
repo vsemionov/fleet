{
 "cells": [
  {
   "cell_type": "code",
   "execution_count": null,
   "id": "c0db29d7256a4434",
   "metadata": {
    "ExecuteTime": {
     "end_time": "2025-05-31T12:36:05.058473Z",
     "start_time": "2025-05-31T12:36:05.022755Z"
    }
   },
   "outputs": [],
   "source": [
    "from clickhouse_driver import Client"
   ]
  },
  {
   "cell_type": "code",
   "execution_count": null,
   "id": "167f0194f7813ea6",
   "metadata": {
    "ExecuteTime": {
     "end_time": "2025-05-31T12:39:53.275003Z",
     "start_time": "2025-05-31T12:39:53.241029Z"
    }
   },
   "outputs": [],
   "source": [
    "client = Client(\n",
    "    host='localhost',\n",
    "    port=9000,\n",
    "    database='fleet',\n",
    "    user='fleet',\n",
    "    password='fleet',\n",
    "    settings={'use_numpy': True},\n",
    ")"
   ]
  },
  {
   "cell_type": "code",
   "execution_count": null,
   "id": "6ce968ab613deda9",
   "metadata": {
    "ExecuteTime": {
     "end_time": "2025-05-31T12:45:16.549005Z",
     "start_time": "2025-05-31T12:45:16.488244Z"
    }
   },
   "outputs": [],
   "source": [
    "time_position, longitude, latitude = client.execute(\n",
    "    'select time_position, longitude, latitude '\n",
    "    'from clean_states '\n",
    "    'order by time_position desc '\n",
    "    'limit 10_000_000',\n",
    "    columnar=True,\n",
    ")"
   ]
  },
  {
   "cell_type": "code",
   "execution_count": null,
   "id": "initial_id",
   "metadata": {
    "ExecuteTime": {
     "end_time": "2025-05-31T12:45:16.817294Z",
     "start_time": "2025-05-31T12:45:16.811841Z"
    },
    "collapsed": true
   },
   "outputs": [],
   "source": [
    "import pandas as pd"
   ]
  },
  {
   "cell_type": "code",
   "execution_count": null,
   "id": "77019e57f601c4d0",
   "metadata": {
    "ExecuteTime": {
     "end_time": "2025-05-31T12:45:18.263901Z",
     "start_time": "2025-05-31T12:45:17.689434Z"
    }
   },
   "outputs": [],
   "source": [
    "df = pd.DataFrame({'time_position': time_position, 'longitude': longitude, 'latitude': latitude})"
   ]
  },
  {
   "cell_type": "code",
   "execution_count": null,
   "id": "1348c0a6b43a3fb4",
   "metadata": {},
   "outputs": [],
   "source": [
    "df.head()"
   ]
  },
  {
   "cell_type": "code",
   "execution_count": null,
   "id": "82109bd1",
   "metadata": {},
   "outputs": [],
   "source": [
    "import datashader as ds\n",
    "import colorcet as cc"
   ]
  },
  {
   "cell_type": "code",
   "execution_count": null,
   "id": "2d62a6d2",
   "metadata": {},
   "outputs": [],
   "source": [
    "\n",
    "agg = ds.Canvas().points(df, 'longitude', 'latitude')\n",
    "ds.tf.set_background(ds.tf.shade(agg, cmap=cc.fire), 'black')"
   ]
  }
 ],
 "metadata": {
  "kernelspec": {
   "display_name": "fleet",
   "language": "python",
   "name": "python3"
  },
  "language_info": {
   "codemirror_mode": {
    "name": "ipython",
    "version": 3
   },
   "file_extension": ".py",
   "mimetype": "text/x-python",
   "name": "python",
   "nbconvert_exporter": "python",
   "pygments_lexer": "ipython3",
   "version": "3.12.10"
  }
 },
 "nbformat": 4,
 "nbformat_minor": 5
}
