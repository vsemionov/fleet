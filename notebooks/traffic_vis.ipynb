{
 "cells": [
  {
   "cell_type": "code",
   "id": "c0db29d7256a4434",
   "metadata": {},
   "source": [
    "from clickhouse_driver import Client"
   ],
   "outputs": [],
   "execution_count": null
  },
  {
   "cell_type": "code",
   "id": "167f0194f7813ea6",
   "metadata": {},
   "source": [
    "client = Client(\n",
    "    host='localhost',\n",
    "    port=9000,\n",
    "    database='fleet',\n",
    "    user='fleet',\n",
    "    password='fleet',\n",
    "    settings={'use_numpy': True},\n",
    ")"
   ],
   "outputs": [],
   "execution_count": null
  },
  {
   "cell_type": "code",
   "id": "6ce968ab613deda9",
   "metadata": {},
   "source": [
    "time_position, longitude, latitude = client.execute(\n",
    "    'select time_position, longitude, latitude '\n",
    "    'from clean_states '\n",
    "    'order by time_position desc '\n",
    "    'limit 10_000_000',\n",
    "    columnar=True,\n",
    ")"
   ],
   "outputs": [],
   "execution_count": null
  },
  {
   "cell_type": "code",
   "id": "initial_id",
   "metadata": {
    "collapsed": true
   },
   "source": [
    "import pandas as pd"
   ],
   "outputs": [],
   "execution_count": null
  },
  {
   "cell_type": "code",
   "id": "77019e57f601c4d0",
   "metadata": {},
   "source": [
    "df = pd.DataFrame({'time_position': time_position, 'longitude': longitude, 'latitude': latitude})"
   ],
   "outputs": [],
   "execution_count": null
  },
  {
   "cell_type": "code",
   "id": "1348c0a6b43a3fb4",
   "metadata": {},
   "source": [
    "df.head()"
   ],
   "outputs": [],
   "execution_count": null
  },
  {
   "cell_type": "code",
   "id": "82109bd1",
   "metadata": {},
   "source": [
    "import datashader as ds\n",
    "import colorcet as cc"
   ],
   "outputs": [],
   "execution_count": null
  },
  {
   "cell_type": "code",
   "id": "2d62a6d2",
   "metadata": {},
   "source": [
    "\n",
    "agg = ds.Canvas().points(df, 'longitude', 'latitude')\n",
    "ds.tf.set_background(ds.tf.shade(agg, cmap=cc.fire), 'black')"
   ],
   "outputs": [],
   "execution_count": null
  },
  {
   "metadata": {},
   "cell_type": "code",
   "source": [
    "import numpy as np\n",
    "import pandas as pd\n",
    "import datashader as ds\n",
    "import datashader.transfer_functions as tf\n",
    "import matplotlib.pyplot as plt\n",
    "import cartopy.crs as ccrs\n",
    "import cartopy.feature as cfeature\n",
    "\n",
    "# Generate random geographic data\n",
    "# n = 100000\n",
    "# data = pd.DataFrame({\n",
    "#     'lon': np.random.uniform(-180, 180, n),\n",
    "#     'lat': np.random.uniform(-90, 90, n)\n",
    "# })\n",
    "\n",
    "# Define canvas\n",
    "canvas = ds.Canvas(plot_width=1000, plot_height=500,\n",
    "                   x_range=(-180, 180), y_range=(-90, 90))\n",
    "\n",
    "# Rasterize\n",
    "# agg = canvas.points(data, 'lon', 'lat')\n",
    "agg = canvas.points(df, 'longitude', 'latitude')\n",
    "img = tf.shade(agg, cmap=[\"lightblue\", \"darkblue\"], how='eq_hist')\n",
    "\n",
    "# Convert Datashader image to numpy array\n",
    "img_array = tf.spread(img, px=1).to_pil()\n",
    "\n",
    "from PIL import Image\n",
    "img_array = img_array.transpose(Image.FLIP_TOP_BOTTOM)\n",
    "\n",
    "# Plot with Cartopy\n",
    "fig = plt.figure(figsize=(15, 8))\n",
    "ax = plt.axes(projection=ccrs.PlateCarree())\n",
    "\n",
    "# Display background map\n",
    "ax.coastlines()\n",
    "ax.add_feature(cfeature.BORDERS, linewidth=0.5)\n",
    "ax.add_feature(cfeature.LAND, facecolor='lightgray')\n",
    "ax.add_feature(cfeature.OCEAN, facecolor='white')\n",
    "\n",
    "# Overlay Datashader image\n",
    "ax.imshow(img_array, extent=[-180, 180, -90, 90], origin='lower', transform=ccrs.PlateCarree())\n",
    "\n",
    "plt.title(\"Random Points on World Map (Datashader + Cartopy)\")\n",
    "plt.show()"
   ],
   "id": "bed0e2f0098f9fef",
   "outputs": [],
   "execution_count": null
  }
 ],
 "metadata": {
  "kernelspec": {
   "display_name": "fleet",
   "language": "python",
   "name": "python3"
  },
  "language_info": {
   "codemirror_mode": {
    "name": "ipython",
    "version": 3
   },
   "file_extension": ".py",
   "mimetype": "text/x-python",
   "name": "python",
   "nbconvert_exporter": "python",
   "pygments_lexer": "ipython3",
   "version": "3.12.10"
  }
 },
 "nbformat": 4,
 "nbformat_minor": 5
}
