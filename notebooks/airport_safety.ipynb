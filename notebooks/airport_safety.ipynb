{
 "cells": [
  {
   "cell_type": "code",
   "execution_count": null,
   "id": "c0db29d7256a4434",
   "metadata": {},
   "outputs": [],
   "source": [
    "from clickhouse_driver import Client"
   ]
  },
  {
   "cell_type": "code",
   "execution_count": null,
   "id": "167f0194f7813ea6",
   "metadata": {},
   "outputs": [],
   "source": [
    "client = Client(\n",
    "    host='localhost',\n",
    "    port=9000,\n",
    "    database='fleet',\n",
    "    user='fleet',\n",
    "    password='fleet',\n",
    "    settings={'use_numpy': True},\n",
    ")"
   ]
  },
  {
   "cell_type": "code",
   "execution_count": null,
   "id": "6ce968ab613deda9",
   "metadata": {},
   "outputs": [],
   "source": [
    "longitude, latitude = client.execute(\n",
    "    \"select longitude, latitude \"\n",
    "    \"from get_flight_endpoints(start_time=now() - interval '1 day', end_time=now()) \"\n",
    "    \"where on_ground = true \",\n",
    "    columnar=True,\n",
    ")"
   ]
  },
  {
   "cell_type": "code",
   "execution_count": null,
   "id": "initial_id",
   "metadata": {
    "collapsed": true
   },
   "outputs": [],
   "source": [
    "import numpy as np\n",
    "import pandas as pd"
   ]
  },
  {
   "cell_type": "code",
   "execution_count": null,
   "id": "77019e57f601c4d0",
   "metadata": {},
   "outputs": [],
   "source": [
    "landings = pd.DataFrame({'longitude': longitude, 'latitude': latitude})\n",
    "landings = landings.astype({'longitude': np.float64, 'latitude': np.float64})"
   ]
  },
  {
   "cell_type": "code",
   "execution_count": null,
   "id": "1348c0a6b43a3fb4",
   "metadata": {},
   "outputs": [],
   "source": [
    "landings.head()"
   ]
  },
  {
   "cell_type": "code",
   "execution_count": null,
   "id": "6506eb87",
   "metadata": {},
   "outputs": [],
   "source": [
    "len(landings)"
   ]
  },
  {
   "cell_type": "code",
   "execution_count": null,
   "id": "602b9147",
   "metadata": {},
   "outputs": [],
   "source": [
    "import folium"
   ]
  },
  {
   "cell_type": "code",
   "execution_count": null,
   "id": "66ba701f",
   "metadata": {},
   "outputs": [],
   "source": [
    "map = folium.Map([50, 10], zoom_start=5, control_scale=True)\n",
    "landings.sample(100).apply(\n",
    "    lambda row: folium.Marker([row['latitude'], row['longitude']]).add_to(map),\n",
    "    axis=1,\n",
    ")\n",
    "map"
   ]
  },
  {
   "cell_type": "code",
   "execution_count": null,
   "id": "245d652d",
   "metadata": {},
   "outputs": [],
   "source": [
    "import cartopy as cp\n",
    "from sklearn.cluster import DBSCAN"
   ]
  },
  {
   "cell_type": "code",
   "execution_count": null,
   "id": "dcfdbc90",
   "metadata": {},
   "outputs": [],
   "source": [
    "projection = cp.crs.Robinson()\n",
    "geodetic = cp.crs.Geodetic()\n",
    "projected = projection.transform_points(geodetic, landings['longitude'], landings['latitude'])\n",
    "landings['x'], landings['y'] = projected.T[:2]"
   ]
  },
  {
   "cell_type": "code",
   "execution_count": null,
   "id": "5eddfe26",
   "metadata": {},
   "outputs": [],
   "source": [
    "projection.x_limits, projection.y_limits"
   ]
  },
  {
   "cell_type": "code",
   "execution_count": null,
   "id": "2e861616",
   "metadata": {},
   "outputs": [],
   "source": [
    "dbscan = DBSCAN(eps=5_000, min_samples=5).fit(landings[['x', 'y']])\n",
    "landings['airport'] = dbscan.labels_"
   ]
  },
  {
   "cell_type": "code",
   "execution_count": null,
   "id": "86413e8a",
   "metadata": {},
   "outputs": [],
   "source": [
    "landings = landings[landings['airport'] >= 0]"
   ]
  },
  {
   "cell_type": "code",
   "execution_count": null,
   "id": "fc13c68c",
   "metadata": {},
   "outputs": [],
   "source": [
    "landings.head()"
   ]
  },
  {
   "cell_type": "code",
   "execution_count": null,
   "id": "e901af8e",
   "metadata": {},
   "outputs": [],
   "source": [
    "len(landings)"
   ]
  },
  {
   "cell_type": "code",
   "execution_count": null,
   "id": "3d4e0752",
   "metadata": {},
   "outputs": [],
   "source": [
    "airports = landings.groupby('airport').agg(\n",
    "    x=('x', 'mean'),\n",
    "    y=('y', 'mean'),\n",
    "    landings=('airport', 'size')\n",
    ")\n",
    "wgs84 = geodetic.transform_points(projection, airports['x'], airports['y'])\n",
    "airports['longitude'], airports['latitude'] = wgs84.T[:2]\n",
    "airports.index.rename('id')"
   ]
  },
  {
   "cell_type": "code",
   "execution_count": null,
   "id": "7fe3436f",
   "metadata": {},
   "outputs": [],
   "source": [
    "airports.head()"
   ]
  },
  {
   "cell_type": "code",
   "execution_count": null,
   "id": "d11ea77f",
   "metadata": {},
   "outputs": [],
   "source": [
    "len(airports)"
   ]
  },
  {
   "cell_type": "code",
   "execution_count": null,
   "id": "c92373c4",
   "metadata": {},
   "outputs": [],
   "source": [
    "map = folium.Map([50, 10], zoom_start=5, control_scale=True)\n",
    "airports.apply(\n",
    "    lambda row: folium.Marker([row['latitude'], row['longitude']]).add_to(map),\n",
    "    axis=1,\n",
    ")\n",
    "map"
   ]
  },
  {
   "cell_type": "code",
   "execution_count": null,
   "id": "f219bc49",
   "metadata": {},
   "outputs": [],
   "source": [
    "longitude, latitude, altitude = client.execute(\n",
    "    \"select longitude, latitude, baro_altitude \"\n",
    "    \"from get_altitude_minima(start_time=now() - interval '1 day', end_time=now()) \",\n",
    "    columnar=True,\n",
    ")"
   ]
  },
  {
   "cell_type": "code",
   "execution_count": null,
   "id": "16aaacc7",
   "metadata": {},
   "outputs": [],
   "source": [
    "minima = pd.DataFrame({'longitude': longitude, 'latitude': latitude, 'altitude': altitude})\n",
    "minima = minima.astype({'longitude': np.float64, 'latitude': np.float64, 'altitude': np.float32})"
   ]
  },
  {
   "cell_type": "code",
   "execution_count": null,
   "id": "bfbe028e",
   "metadata": {},
   "outputs": [],
   "source": [
    "minima.head()"
   ]
  },
  {
   "cell_type": "code",
   "execution_count": null,
   "id": "f8101fcf",
   "metadata": {},
   "outputs": [],
   "source": [
    "len(minima)"
   ]
  },
  {
   "cell_type": "code",
   "execution_count": null,
   "id": "5c6cba16",
   "metadata": {},
   "outputs": [],
   "source": [
    "import xarray as xr\n",
    "import pygmt"
   ]
  },
  {
   "cell_type": "code",
   "execution_count": null,
   "id": "077d5af2",
   "metadata": {},
   "outputs": [],
   "source": [
    "elevation = pygmt.datasets.load_earth_relief(resolution='06m')"
   ]
  },
  {
   "cell_type": "code",
   "execution_count": null,
   "id": "c6f6e043",
   "metadata": {},
   "outputs": [],
   "source": [
    "elevation.shape, elevation.dtype"
   ]
  },
  {
   "cell_type": "code",
   "execution_count": null,
   "id": "195d2047",
   "metadata": {},
   "outputs": [],
   "source": [
    "ground_level = elevation.interp(\n",
    "    lat = xr.DataArray(minima['latitude']),\n",
    "    lon = xr.DataArray(minima['longitude']),\n",
    ")\n",
    "minima['agl'] = minima['altitude'] - ground_level"
   ]
  },
  {
   "cell_type": "code",
   "execution_count": null,
   "id": "6081dd51",
   "metadata": {},
   "outputs": [],
   "source": [
    "minima = minima[minima['agl'] < 250]"
   ]
  },
  {
   "cell_type": "code",
   "execution_count": null,
   "id": "3b30667e",
   "metadata": {},
   "outputs": [],
   "source": [
    "minima.head()"
   ]
  },
  {
   "cell_type": "code",
   "execution_count": null,
   "id": "b2c92b6c",
   "metadata": {},
   "outputs": [],
   "source": [
    "len(minima)"
   ]
  },
  {
   "cell_type": "code",
   "execution_count": null,
   "id": "5d1c3242",
   "metadata": {},
   "outputs": [],
   "source": [
    "from cartopy.geodesic import Geodesic"
   ]
  },
  {
   "cell_type": "code",
   "execution_count": null,
   "id": "85e17777",
   "metadata": {},
   "outputs": [],
   "source": [
    "geodesic = Geodesic()\n",
    "endpoints = airports[['longitude', 'latitude']].to_numpy()\n",
    "dists = minima[['longitude', 'latitude']].apply(\n",
    "    lambda row: geodesic.inverse(row.to_numpy(), endpoints)[:, 0],\n",
    "    axis=1,\n",
    ")\n",
    "dists = np.stack(dists.to_numpy()).astype(np.float32)"
   ]
  },
  {
   "cell_type": "code",
   "execution_count": null,
   "id": "f83ca053",
   "metadata": {},
   "outputs": [],
   "source": [
    "airport_idx = dists.argmin(axis=1)\n",
    "minima['airport'] = airports.index.to_numpy()[airport_idx]\n",
    "minima['airport_dist'] = dists[range(dists.shape[0]), airport_idx]"
   ]
  },
  {
   "cell_type": "code",
   "execution_count": null,
   "id": "9e86e54f",
   "metadata": {},
   "outputs": [],
   "source": [
    "minima = minima[minima['airport_dist'] < 10_000]"
   ]
  },
  {
   "cell_type": "code",
   "execution_count": null,
   "id": "dded9b1a",
   "metadata": {},
   "outputs": [],
   "source": [
    "minima.head()"
   ]
  },
  {
   "cell_type": "code",
   "execution_count": null,
   "id": "66ebbd7d",
   "metadata": {},
   "outputs": [],
   "source": [
    "len(minima)"
   ]
  },
  {
   "cell_type": "code",
   "execution_count": null,
   "id": "7b9c7bb8",
   "metadata": {},
   "outputs": [],
   "source": [
    "go_arounds = minima.groupby('airport').size()\n",
    "airports['go_arounds'] = 0\n",
    "airports.loc[go_arounds.index, 'go_arounds'] = go_arounds\n",
    "airports['risk'] = airports['go_arounds'] / airports['landings']"
   ]
  },
  {
   "cell_type": "code",
   "execution_count": null,
   "id": "b2940762",
   "metadata": {},
   "outputs": [],
   "source": [
    "airports.head()"
   ]
  },
  {
   "cell_type": "code",
   "execution_count": null,
   "id": "4fb844e1",
   "metadata": {},
   "outputs": [],
   "source": [
    "dangerous_airports = airports[airports['risk'] > 0]\n",
    "dangerous_airports = dangerous_airports.sort_values('risk', ascending=False)\n",
    "dangerous_airports.head()"
   ]
  },
  {
   "cell_type": "code",
   "execution_count": null,
   "id": "9ce3963d",
   "metadata": {},
   "outputs": [],
   "source": [
    "import seaborn as sns\n",
    "import matplotlib.pyplot as plt"
   ]
  },
  {
   "cell_type": "code",
   "execution_count": null,
   "id": "2a95b837",
   "metadata": {},
   "outputs": [],
   "source": [
    "sns.set_theme()\n",
    "sns.histplot(dangerous_airports['landings'], log_scale=True)\n",
    "plt.show()"
   ]
  },
  {
   "cell_type": "code",
   "execution_count": null,
   "id": "be6dfaf4",
   "metadata": {},
   "outputs": [],
   "source": [
    "dangerous_airports = dangerous_airports[dangerous_airports['landings'] > 100]\n",
    "dangerous_airports.head()"
   ]
  },
  {
   "cell_type": "code",
   "execution_count": null,
   "id": "551784c6",
   "metadata": {},
   "outputs": [],
   "source": [
    "def get_color(landings, risk):\n",
    "    if landings < 100:\n",
    "        return 'blue'\n",
    "    if risk < 1/3:\n",
    "        return 'green'\n",
    "    if risk < 2/3:\n",
    "        return 'orange'\n",
    "    return 'red'\n",
    "map = folium.Map([50, 10], zoom_start=5, control_scale=True)\n",
    "add_marker = lambda row: folium.Marker(\n",
    "    [row['latitude'], row['longitude']],\n",
    "    popup=f\"Risk: {row['risk']:.3f}\",\n",
    "    icon=folium.Icon(color=get_color(row['landings'], row['risk']))\n",
    ").add_to(map)\n",
    "airports.apply(\n",
    "    add_marker,\n",
    "    axis=1,\n",
    ")\n",
    "map"
   ]
  },
  {
   "cell_type": "code",
   "execution_count": null,
   "id": "6aa8dc5c",
   "metadata": {},
   "outputs": [],
   "source": [
    "plt.style.use('default')\n",
    "plt.figure(figsize=(50, 20))\n",
    "\n",
    "ax = plt.axes(projection=projection)\n",
    "# ax.stock_img()\n",
    "ax.add_feature(cp.feature.OCEAN)\n",
    "ax.add_feature(cp.feature.LAND)\n",
    "ax.add_feature(cp.feature.RIVERS)\n",
    "ax.add_feature(cp.feature.LAKES)\n",
    "ax.add_feature(cp.feature.COASTLINE)\n",
    "ax.add_feature(cp.feature.BORDERS, linewidth=0.5)\n",
    "ax.add_feature(cp.feature.STATES, linewidth=0.5, linestyle='dashed')\n",
    "\n",
    "scatter = ax.scatter(\n",
    "    x=airports['longitude'],\n",
    "    y=airports['latitude'],\n",
    "    s=(airports['landings'] / 5),\n",
    "    c=np.minimum(airports['risk'], 1),\n",
    "    transform=geodetic,\n",
    "    cmap='RdYlGn_r',\n",
    "    edgecolor='black',\n",
    "    linewidth=0.5,\n",
    "    zorder=2,\n",
    ")\n",
    "ax.set_xlim(projection.x_limits)\n",
    "ax.set_ylim(projection.y_limits)\n",
    "cbar = plt.colorbar(scatter)\n",
    "cbar.ax.tick_params(labelsize=20)\n",
    "cbar.set_label('Risk', fontsize=20)\n",
    "\n",
    "plt.title('Airport Safety', fontsize=40)\n",
    "plt.show()"
   ]
  }
 ],
 "metadata": {
  "kernelspec": {
   "display_name": "fleet",
   "language": "python",
   "name": "python3"
  },
  "language_info": {
   "codemirror_mode": {
    "name": "ipython",
    "version": 3
   },
   "file_extension": ".py",
   "mimetype": "text/x-python",
   "name": "python",
   "nbconvert_exporter": "python",
   "pygments_lexer": "ipython3",
   "version": "3.12.11"
  }
 },
 "nbformat": 4,
 "nbformat_minor": 5
}
