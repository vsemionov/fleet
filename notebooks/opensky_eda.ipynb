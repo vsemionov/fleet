{
 "cells": [
  {
   "cell_type": "code",
   "id": "initial_id",
   "metadata": {
    "collapsed": true
   },
   "source": [
    "import time\n",
    "\n",
    "import numpy as np\n",
    "import pandas as pd\n",
    "import requests"
   ],
   "outputs": [],
   "execution_count": null
  },
  {
   "metadata": {},
   "cell_type": "code",
   "source": [
    "with requests.get('https://opensky-network.org/api/states/all?extended=1') as response:\n",
    "    response.raise_for_status()\n",
    "    data = response.json()\n",
    "print(time.time(), data['time'])"
   ],
   "id": "2778ad03c2a3e6d7",
   "outputs": [],
   "execution_count": null
  },
  {
   "metadata": {},
   "cell_type": "code",
   "source": [
    "columns = {\n",
    "    'icao24': str,\n",
    "    'callsign': str,\n",
    "    'origin_country': str,\n",
    "    'time_position': float,  # float to accommodate nulls\n",
    "    'last_contact': int,\n",
    "    'longitude': float,\n",
    "    'latitude': float,\n",
    "    'baro_altitude': float,\n",
    "    'on_ground': bool,\n",
    "    'velocity': float,\n",
    "    'true_track': float,\n",
    "    'vertical_rate': float,\n",
    "    'sensors': object,\n",
    "    'geo_altitude': float,\n",
    "    'squawk': str,\n",
    "    'spi': bool,\n",
    "    'position_source': int,\n",
    "    'category': int,\n",
    "}"
   ],
   "id": "ecf40b4ac3c7585c",
   "outputs": [],
   "execution_count": null
  },
  {
   "metadata": {},
   "cell_type": "code",
   "source": [
    "df = pd.DataFrame(data['states'], columns=columns.keys()).astype(columns)\n",
    "df"
   ],
   "id": "728498d91c65bff1",
   "outputs": [],
   "execution_count": null
  },
  {
   "metadata": {},
   "cell_type": "code",
   "source": "df[df.latitude.isna() | df.longitude.isna()]",
   "id": "dfbd8de8c0680688",
   "outputs": [],
   "execution_count": null
  },
  {
   "metadata": {},
   "cell_type": "code",
   "source": "df[df.on_ground]",
   "id": "10954aad366645e3",
   "outputs": [],
   "execution_count": null
  },
  {
   "metadata": {},
   "cell_type": "code",
   "source": "df[df.squawk != 'None']",
   "id": "e94c18204a8b2f91",
   "outputs": [],
   "execution_count": null
  },
  {
   "metadata": {},
   "cell_type": "code",
   "source": "abs(df.baro_altitude - df.geo_altitude) / np.minimum(df.geo_altitude, df.baro_altitude)",
   "id": "ead89665467f1634",
   "outputs": [],
   "execution_count": null
  },
  {
   "metadata": {},
   "cell_type": "code",
   "source": [
    "last_contact_diff = data['time'] - df.last_contact\n",
    "np.min(last_contact_diff), np.median(last_contact_diff), np.mean(last_contact_diff), np.max(last_contact_diff)"
   ],
   "id": "26017bc6d4910419",
   "outputs": [],
   "execution_count": null
  },
  {
   "metadata": {},
   "cell_type": "code",
   "source": [
    "time_position = np.array([state[3] for state in data['states'] if state[3] is not None])\n",
    "time_position_diff = data['time'] - time_position\n",
    "np.min(time_position_diff), np.median(time_position_diff), np.mean(time_position_diff), np.max(time_position_diff)"
   ],
   "id": "68aff82deecadb9a",
   "outputs": [],
   "execution_count": null
  },
  {
   "metadata": {},
   "cell_type": "code",
   "source": "sum(last_contact_diff < 60) / len(last_contact_diff), sum(time_position_diff < 60) / len(time_position_diff)",
   "id": "135c6f9ef1c85677",
   "outputs": [],
   "execution_count": null
  },
  {
   "metadata": {},
   "cell_type": "code",
   "source": "df[df.time_position > df.last_contact]",
   "id": "9379800c568cb6ac",
   "outputs": [],
   "execution_count": null
  },
  {
   "metadata": {},
   "cell_type": "code",
   "source": "df[data['time'] < df.time_position]",
   "id": "ae76921fcce5034c",
   "outputs": [],
   "execution_count": null
  },
  {
   "metadata": {},
   "cell_type": "code",
   "source": "df[data['time'] < df.last_contact]",
   "id": "a2bc63ab994f266b",
   "outputs": [],
   "execution_count": null
  },
  {
   "metadata": {},
   "cell_type": "code",
   "source": [
    "import matplotlib.pyplot as plt\n",
    "import seaborn as sns\n",
    "sns.set_theme()"
   ],
   "id": "9786dbfd7cae0b08",
   "outputs": [],
   "execution_count": null
  },
  {
   "metadata": {},
   "cell_type": "code",
   "source": [
    "sns.histplot(last_contact_diff, log_scale=True)\n",
    "plt.show()"
   ],
   "id": "f54dec4350214929",
   "outputs": [],
   "execution_count": null
  },
  {
   "metadata": {},
   "cell_type": "code",
   "source": [
    "sns.histplot(time_position_diff, log_scale=True)\n",
    "plt.show()"
   ],
   "id": "f18bf61950e53d30",
   "outputs": [],
   "execution_count": null
  },
  {
   "metadata": {},
   "cell_type": "code",
   "source": "df.time_position.argmin()",
   "id": "dafa4dc3d04cc2fe",
   "outputs": [],
   "execution_count": null
  },
  {
   "metadata": {},
   "cell_type": "code",
   "source": "df.icao24[df.time_position.argmin()]",
   "id": "a5b5973004fdd3c1",
   "outputs": [],
   "execution_count": null
  },
  {
   "metadata": {},
   "cell_type": "code",
   "source": "df[df.time_position.argmin():df.time_position.argmin()+1]",
   "id": "f118b0ffa7fd94f3",
   "outputs": [],
   "execution_count": null
  },
  {
   "metadata": {},
   "cell_type": "code",
   "source": [
    "lag_df = df.copy()\n",
    "lag_df['position_lag'] = data['time'] - df.time_position\n",
    "lag_df['contact_lag'] = data['time'] - df.last_contact"
   ],
   "id": "c9d930007280b502",
   "outputs": [],
   "execution_count": null
  },
  {
   "metadata": {},
   "cell_type": "code",
   "source": [
    "lag_df = lag_df.sort_values('position_lag', ascending=False)\n",
    "lag_df"
   ],
   "id": "28f955a31b4a6625",
   "outputs": [],
   "execution_count": null
  },
  {
   "metadata": {},
   "cell_type": "code",
   "source": [
    "lag_df = lag_df.sort_values('contact_lag', ascending=False)\n",
    "lag_df"
   ],
   "id": "fca82a61780de121",
   "outputs": [],
   "execution_count": null
  },
  {
   "metadata": {},
   "cell_type": "code",
   "source": "df.describe()",
   "id": "219e2d58ffe84d9",
   "outputs": [],
   "execution_count": null
  }
 ],
 "metadata": {
  "kernelspec": {
   "display_name": "Python 3",
   "language": "python",
   "name": "python3"
  },
  "language_info": {
   "codemirror_mode": {
    "name": "ipython",
    "version": 2
   },
   "file_extension": ".py",
   "mimetype": "text/x-python",
   "name": "python",
   "nbconvert_exporter": "python",
   "pygments_lexer": "ipython2",
   "version": "2.7.6"
  }
 },
 "nbformat": 4,
 "nbformat_minor": 5
}
