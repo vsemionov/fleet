{
 "cells": [
  {
   "cell_type": "code",
   "execution_count": null,
   "id": "c0db29d7256a4434",
   "metadata": {},
   "outputs": [],
   "source": [
    "from clickhouse_driver import Client"
   ]
  },
  {
   "cell_type": "code",
   "execution_count": null,
   "id": "167f0194f7813ea6",
   "metadata": {},
   "outputs": [],
   "source": [
    "client = Client(\n",
    "    host='localhost',\n",
    "    port=9000,\n",
    "    database='fleet',\n",
    "    user='fleet',\n",
    "    password='fleet',\n",
    "    settings={'use_numpy': True},\n",
    ")"
   ]
  },
  {
   "cell_type": "code",
   "execution_count": null,
   "id": "6ce968ab613deda9",
   "metadata": {},
   "outputs": [],
   "source": [
    "longitude, latitude = client.execute(\n",
    "    \"select end_longitude as longitude, end_latitude as latitude \"\n",
    "    \"from get_clean_flights(start_time=now() - interval '1 day', end_time=now()) \"\n",
    "    \"where end_on_ground = true\",\n",
    "    columnar=True,\n",
    ")"
   ]
  },
  {
   "cell_type": "code",
   "execution_count": null,
   "id": "initial_id",
   "metadata": {
    "collapsed": true
   },
   "outputs": [],
   "source": [
    "import numpy as np\n",
    "import pandas as pd"
   ]
  },
  {
   "cell_type": "code",
   "execution_count": null,
   "id": "77019e57f601c4d0",
   "metadata": {},
   "outputs": [],
   "source": [
    "landings = pd.DataFrame({'longitude': longitude, 'latitude': latitude})\n",
    "landings = landings.astype({'longitude': np.float64, 'latitude': np.float64})"
   ]
  },
  {
   "cell_type": "code",
   "execution_count": null,
   "id": "1348c0a6b43a3fb4",
   "metadata": {},
   "outputs": [],
   "source": [
    "landings.head()"
   ]
  },
  {
   "cell_type": "code",
   "execution_count": null,
   "id": "602b9147",
   "metadata": {},
   "outputs": [],
   "source": [
    "import folium"
   ]
  },
  {
   "cell_type": "code",
   "execution_count": null,
   "id": "66ba701f",
   "metadata": {},
   "outputs": [],
   "source": [
    "map = folium.Map(control_scale=True)\n",
    "landings.sample(100).apply(\n",
    "    lambda row: folium.Marker([row['latitude'], row['longitude']]).add_to(map),\n",
    "    axis=1\n",
    ")\n",
    "map"
   ]
  },
  {
   "cell_type": "code",
   "execution_count": null,
   "id": "245d652d",
   "metadata": {},
   "outputs": [],
   "source": [
    "import cartopy as cp\n",
    "from sklearn.cluster import DBSCAN"
   ]
  },
  {
   "cell_type": "code",
   "execution_count": null,
   "id": "dcfdbc90",
   "metadata": {},
   "outputs": [],
   "source": [
    "projection = cp.crs.Robinson()\n",
    "geodetic = cp.crs.Geodetic()\n",
    "projected = projection.transform_points(geodetic, landings['longitude'], landings['latitude'])\n",
    "landings['x'], landings['y'] = projected.T[:2]"
   ]
  },
  {
   "cell_type": "code",
   "execution_count": null,
   "id": "5eddfe26",
   "metadata": {},
   "outputs": [],
   "source": [
    "projection.x_limits, projection.y_limits"
   ]
  },
  {
   "cell_type": "code",
   "execution_count": null,
   "id": "2e861616",
   "metadata": {},
   "outputs": [],
   "source": [
    "dbscan = DBSCAN(eps=5_000, min_samples=5).fit(landings[['x', 'y']])\n",
    "landings['airport'] = dbscan.labels_\n",
    "landings.head()"
   ]
  },
  {
   "cell_type": "code",
   "execution_count": null,
   "id": "3d4e0752",
   "metadata": {},
   "outputs": [],
   "source": [
    "airports = landings[landings['airport'] >= 0].groupby('airport').agg(\n",
    "    x=('x', 'mean'),\n",
    "    y=('y', 'mean'),\n",
    "    count=('airport', 'size')\n",
    ")\n",
    "wgs84 = geodetic.transform_points(projection, airports['x'], airports['y'])\n",
    "airports['longitude'], airports['latitude'] = wgs84.T[:2]\n",
    "airports.head()"
   ]
  },
  {
   "cell_type": "code",
   "execution_count": null,
   "id": "d11ea77f",
   "metadata": {},
   "outputs": [],
   "source": [
    "len(airports)"
   ]
  },
  {
   "cell_type": "code",
   "execution_count": null,
   "id": "c92373c4",
   "metadata": {},
   "outputs": [],
   "source": [
    "map = folium.Map(control_scale=True)\n",
    "airports.apply(\n",
    "    lambda row: folium.Marker([row['latitude'], row['longitude']]).add_to(map),\n",
    "    axis=1\n",
    ")\n",
    "map"
   ]
  }
 ],
 "metadata": {
  "kernelspec": {
   "display_name": "fleet",
   "language": "python",
   "name": "python3"
  },
  "language_info": {
   "codemirror_mode": {
    "name": "ipython",
    "version": 3
   },
   "file_extension": ".py",
   "mimetype": "text/x-python",
   "name": "python",
   "nbconvert_exporter": "python",
   "pygments_lexer": "ipython3",
   "version": "3.12.11"
  }
 },
 "nbformat": 4,
 "nbformat_minor": 5
}
